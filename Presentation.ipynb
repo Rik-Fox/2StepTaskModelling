{
 "cells": [
  {
   "cell_type": "markdown",
   "metadata": {
    "slideshow": {
     "slide_type": "slide"
    }
   },
   "source": [
    "<h2 align=\"center\"> </h2>\n",
    "<h2 align=\"center\"> </h2>\n",
    "\n",
    "<h1 align=\"center\"> Reinforcement Learning Models for the Two Step Task </h1>\n",
    "\n",
    "<h2 align=\"center\"> </h2>\n",
    "<h2 align=\"center\"> </h2>\n",
    "\n",
    "\n",
    "<h2 align=\"center\"> Richard Fox</h2>\n",
    "\n",
    "<h2 align=\"center\"> </h2>"
   ]
  },
  {
   "cell_type": "markdown",
   "metadata": {
    "slideshow": {
     "slide_type": "slide"
    }
   },
   "source": [
    "# Overview\n",
    "\n",
    "- Experiment\n",
    "\n",
    "- Reinforcement Learning\n",
    "\n",
    "- Models\n",
    "\n",
    "- Data Fitting \n",
    "\n",
    "- Problems and Solutions\n"
   ]
  },
  {
   "cell_type": "markdown",
   "metadata": {
    "slideshow": {
     "slide_type": "slide"
    }
   },
   "source": [
    "<div align=\"left\">\n",
    "    <table style=\"width:80%\" style=\"length:100%\">\n",
    "    <caption><b style=\"font-size:80px\">Experiment</b></caption>\n",
    "        \n",
    "   <tr>\n",
    "            <th><b align=\"left\" style=\"font-size:20px\"><ul type=\"circle\">\n",
    "    <li>112 Participants</li>\n",
    "    <li>200 trials with randomly changing terminal P values</li>\n",
    "    <li>interlaced with cued trials to aim for a particular terminal node</li>\n",
    "    <li>150 relevant trials, 300 sequenital choices per participant</li>\n",
    "</ul></b></th>\n",
    "            <th><b style=\"font-size:50px\"><img align=\"right\" src=\"files/Plots/ExDataDiag.png\" width=\"500\" height=\"300\"></b></th>\n",
    "        </tr>\n",
    "</table>\n",
    "</div>"
   ]
  },
  {
   "attachments": {},
   "cell_type": "markdown",
   "metadata": {
    "slideshow": {
     "slide_type": "slide"
    }
   },
   "source": [
    "<div align=\"left\">\n",
    "    \n",
    "<table style=\"width:80%\" style=\"length:100%\">\n",
    "<caption><b style=\"font-size:80px\">Two Step Task</b></caption>\n",
    "    <tr>\n",
    "<th><b align=\"left\" style=\"font-size:20px\"><h3>- MDP is a 4-tuple $(S,A,T_{s,a},R_{a}(s))$ where,</h3>\n",
    "<ul type=\"circle\">\n",
    "    <li><b style=font-size:15px>$S$ is the set of all states $= \\{\\xi,\\mu,\\nu,S_R,S_{NR}\\}$</b></li>\n",
    "    <li><b style=font-size:15px>$A$ is the set of all actions $= \\{a_1,a_2\\}$</b></li>\n",
    "    <li><b style=font-size:15px>$T_{s,a}(s^{\\prime}) = \\mathbb{P}[s_{t+1} = s^{\\prime} \\: | \\: (s,a)]$</b></li>\n",
    "    <li><b style=font-size:15px>$R_{a}(s) = \\mathbb{P}[r(s) = 1 \\: | \\: (s,a)]$</li>\n",
    "    </ul></b></th>\n",
    "        <th><img align=\"right\" src=\"files/Plots/TwoStepDiag.png\" width=\"500\" height=\"300\"></th>\n",
    "    </tr>\n",
    "    </table>\n",
    "</div>"
   ]
  },
  {
   "cell_type": "markdown",
   "metadata": {
    "slideshow": {
     "slide_type": "slide"
    }
   },
   "source": [
    "# Reinforcement Learning\n",
    "\n",
    "## Temporal-Difference Learning\n",
    "<b style=\"font-size:30px\">$$V_{t+1}(s)=r(s)+ V_{t}\\left(s^{\\prime}\\right)-V_{t}^{\\pi}(s).$$</b>\n",
    "\n",
    "## Q-learning\n",
    "<b style=\"font-size:18px\">$$Q(s, a) \\leftarrow Q(s, a)+\\alpha\\left(r(s)+\\gamma \\sum_{s^{\\prime}}T\\left(s_{\\tau}, a_{\\tau}, s^{\\prime}\\right)\\max_{a^{\\prime}} Q\\left(s^{\\prime}, a^{\\prime}\\right)-Q(s, a)\\right)$$</b>"
   ]
  },
  {
   "cell_type": "markdown",
   "metadata": {
    "slideshow": {
     "slide_type": "slide"
    }
   },
   "source": [
    "# Habitual vs. Goal-Directed\n",
    "\n",
    "<h2 align=\"center\"> </h2>\n",
    "    \n",
    "- Habitual \n",
    "\n",
    "    - Repeated actions reinforce their likelihood to be performed again\n",
    "\n",
    "- Goal Directed \n",
    "\n",
    "     - Reflective decisions based on internal model of environment\n",
    "     \n"
   ]
  },
  {
   "cell_type": "markdown",
   "metadata": {
    "slideshow": {
     "slide_type": "slide"
    }
   },
   "source": [
    "# Internal Models\n",
    "\n",
    "<h2 align=\"center\">Transition Model</h2>\n",
    "\n",
    "<b style=\"font-size:25px\"> $$T_{\\tau+1}\\left(s_{\\tau}, a_{\\tau}, s^{\\prime}\\right)=\\left\\{\\begin{array}{ll}\\left(1-\\alpha_{T}\\right){T_{\\tau}\\left(s_{\\tau}, a_{\\tau}, s^{\\prime}\\right)+\\alpha_{T}} & {;} & {\\mathrm{s}^{\\prime}=s_{\\tau+1}} \\\\ \\left(1-\\alpha_{T}\\right){T_{\\tau}\\left(s_{\\tau}, a_{\\tau}, s^{\\prime}\\right)} & { ;} & {\\mathrm{s}^{\\prime} \\neq s_{\\tau+1}}\\end{array}\\right.$$</b>\n",
    "\n",
    "<h2 align=\"center\">Reward Model</h2>\n",
    "\n",
    "<b style=\"font-size:25px\">$$R_{\\tau+1,a}(s)=\\left(1-\\alpha_{R}\\right)R_{\\tau,a}(s)+ \\alpha_R r(s), \\quad \\text{iff}\\: s = s_\\tau \\:.$$</b>"
   ]
  },
  {
   "cell_type": "markdown",
   "metadata": {
    "slideshow": {
     "slide_type": "slide"
    }
   },
   "source": [
    "# Habitual Controllers\n",
    "\n",
    "<h2 align=\"center\">Q-learning(Model-Free)</h2>\n",
    "\n",
    "<b style=\"font-size:20px\">$$Q(s, a) \\leftarrow \\left(1-\\alpha\\right)Q(s, a)+\\alpha \\lambda \\left(r(s)+ \\sum_{s^{\\prime}}T\\left(s_{\\tau}, a_{\\tau}, s^{\\prime}\\right)\\max_{a^{\\prime}} Q\\left(s^{\\prime}, a^{\\prime}\\right)\\right)$$</b>\n",
    "\n",
    "<h2 align=\"center\"> Value Free</h2>\n",
    "\n",
    "<b style=\"font-size:25px\">$$h_{\\tau+1}\\left(s_{\\tau}, a\\right)=\\left\\{\\begin{array}{ll}\\left(1-\\alpha_{H}\\right){h_{\\tau}\\left(s_{\\tau}, a\\right)+\\alpha_{H}} & { ; \\quad a=a_{\\tau}} \\\\ \\left(1-\\alpha_{H}\\right){h_{\\tau}\\left(s_{\\tau}, a\\right)} & { ; \\quad a \\neq a_{\\tau}}\\end{array}\\right.$$</b>"
   ]
  },
  {
   "cell_type": "markdown",
   "metadata": {
    "slideshow": {
     "slide_type": "slide"
    }
   },
   "source": [
    "# Goal-Directed Controllers\n",
    "\n",
    "<h2 align=\"center\">Q-learning(Model-Based)</h2>\n",
    "<h2></h2>\n",
    "<b style=\"font-size:22px\">$$Q(s, a) \\leftarrow \\left(1-\\alpha\\right)Q(s, a)+\\alpha\\left(R(s)+ \\sum_{s^{\\prime}}T\\left(s_{\\tau}, a_{\\tau}, s^{\\prime}\\right)\\max_{a^{\\prime}} Q\\left(s^{\\prime}, a^{\\prime}\\right)\\right)$$</b>\n",
    "\n",
    "- DYNA (Tree Search)\n",
    "\n",
    "- Value Iteration\n",
    "\n"
   ]
  },
  {
   "cell_type": "markdown",
   "metadata": {
    "slideshow": {
     "slide_type": "slide"
    }
   },
   "source": [
    "## Direct Update\n",
    "\n",
    "<b style=\"font-size:25px\"> $Q(s,a) = \\left\\{\\begin{array}{ll} R\\left(s^{\\prime}\\right) & s^{\\prime} \\text{is Terminal} \\\\ \\alpha\\left(\\sum_{s^{\\prime}}T\\left(s_{\\tau}, a_{\\tau}, s^{\\prime}\\right)\\max_{a^{\\prime}} Q\\left(s^{\\prime}, a^{\\prime}\\right)\\right) & \\text{Otherwise} \\end{array} \\right.$</b>"
   ]
  },
  {
   "cell_type": "markdown",
   "metadata": {
    "slideshow": {
     "slide_type": "slide"
    }
   },
   "source": [
    "\n",
    "\n",
    "<table style=\"width:80%\" style=\"length:100%\">\n",
    "    <caption><b style=\"font-size:70px\">Examined Models</b></caption>\n",
    "        <tr>\n",
    "            <th><b style=\"font-size:30px\"></b></th>\n",
    "            <th><b style=\"font-size:30px\">Varience Comparision</b></th>\n",
    "            <th><b style=\"font-size:30px\">Proportional</b></th>\n",
    "            <th><b style=\"font-size:30px\">Value-free</b></th>\n",
    "        </tr>\n",
    "        <tr>\n",
    "            <th><b style=\"font-size:30px\"> Habitual Controller</b></th>\n",
    "            <td><i style=\"font-size:20px\">Q-learning</i></td>\n",
    "            <td><i style=\"font-size:20px\">Q-learning</i></td>\n",
    "            <td><i style=\"font-size:20px\">Value Free</i></td>\n",
    "        </tr>\n",
    "        <tr>\n",
    "            <th><b style=\"font-size:30px\">Goal-Directed Controller</b></th>\n",
    "            <td><i style=\"font-size:20px\">Direct Update</i></td>\n",
    "            <td><i style=\"font-size:20px\">Direct Update</i></td>\n",
    "            <td><i style=\"font-size:20px\">Direct Update</i></td>\n",
    "        </tr>\n",
    "     <tr>\n",
    "            <th><b style=\"font-size:30px\">Parameters</b></th>\n",
    "            <td><i style=\"font-size:20px\">$\\alpha \\: \\beta 1 \\: \\beta 2 \\: \\lambda \\: \\eta_t \\: \\eta_r$</i></td>\n",
    "            <td><i style=\"font-size:20px\">$\\alpha 1 \\: \\alpha 2 \\: \\beta 1 \\: \\beta 2 \\: \\lambda \\: \\eta_t \\: \\kappa \\: w$</i></td>\n",
    "            <td><i style=\"font-size:20px\">$\\alpha \\: \\beta 1 \\: \\beta 2 \\: \\eta_t \\: \\eta_r \\: w_0 \\: w_h \\:w_g$</i></td>\n",
    "        </tr>\n",
    "</table>"
   ]
  },
  {
   "cell_type": "markdown",
   "metadata": {
    "slideshow": {
     "slide_type": "slide"
    }
   },
   "source": [
    "# Arbiters\n",
    "\n",
    "## Varience\n",
    "\n",
    "<b style=\"font-size:40px\">$ Q_{\\tau+1} \\leftarrow \\left\\{\\begin{array}{ll}Q_{\\tau}^{MB} &  Var_{MB}<Var_{MF}\\\\ Q_{\\tau}^{MF}  &  Otherwise\\end{array}\\right. $</b>\n",
    "\n",
    "## Proportional \n",
    "\n",
    "<b style=\"font-size:40px\">$Q_{\\tau+1} \\leftarrow w Q^{(\\textit{MF})}_\\tau + (1-w) Q^{(\\textit{MB})}_\\tau$</b>"
   ]
  },
  {
   "cell_type": "markdown",
   "metadata": {
    "slideshow": {
     "slide_type": "slide"
    }
   },
   "source": [
    "# Value-free Arbiter\n",
    "\n",
    "<b style=\"font-size:30px\">$$ D(s, a)=w \\cdot\\left(\\theta_{h} \\cdot H(s, a)\\right)+(1-w) \\cdot\\left(\\theta_{g} \\cdot Q(s, a)\\right)$$</b>\n",
    "<h2></h2>\n",
    "<b style=\"font-size:25px\">$$ w=\\frac{1}{1+e^{w_{g} \\cdot g-w_{h} \\cdot h+w_{0}}} $$</b>"
   ]
  },
  {
   "cell_type": "markdown",
   "metadata": {
    "slideshow": {
     "slide_type": "slide"
    }
   },
   "source": [
    "\n",
    "# Softmax Action Selection and Stickiness\n",
    "$$\\pi(s,a) = \\frac{e^{\\beta Q(s,a) + k(s,a)}}{\\sum_{a^{\\prime}} e^{\\beta Q(s,a^{\\prime}) + k(s,a)}}$$\n",
    "\n",
    "$$k_{\\tau}\\left(s_{\\tau}, a\\right)=\\left\\{\\begin{array}{ll}\\kappa &  a_{\\tau}=a_{\\tau-1} \\\\ 0  &  Otherwise\\end{array}\\right.$$"
   ]
  },
  {
   "cell_type": "markdown",
   "metadata": {
    "slideshow": {
     "slide_type": "slide"
    }
   },
   "source": [
    "\n",
    "<img align=\"center\" src=\"files/Plots/boxLikeli.png\" width=700 length=500>"
   ]
  },
  {
   "cell_type": "markdown",
   "metadata": {
    "slideshow": {
     "slide_type": "slide"
    }
   },
   "source": [
    "\n",
    "<img align=\"center\" src=\"files/Plots/BIC.png\" width=700 length=500>"
   ]
  },
  {
   "cell_type": "markdown",
   "metadata": {
    "slideshow": {
     "slide_type": "slide"
    }
   },
   "source": [
    "<img align=\"center\" src=\"files/Plots/K_lrt.png\" width=700 length=500>"
   ]
  },
  {
   "cell_type": "markdown",
   "metadata": {
    "slideshow": {
     "slide_type": "slide"
    }
   },
   "source": [
    "# Varience Comparision Model\n",
    "\n",
    "<img align=\"center\" src=\"files/Plots/CorrDaw.png\" width=700 length=500>\n"
   ]
  },
  {
   "cell_type": "markdown",
   "metadata": {
    "slideshow": {
     "slide_type": "slide"
    }
   },
   "source": [
    "# Proportial Model\n",
    "<img align=\"center\" src=\"files/Plots/CorrDez.png\" width=700 length=500>"
   ]
  },
  {
   "cell_type": "markdown",
   "metadata": {
    "slideshow": {
     "slide_type": "slide"
    }
   },
   "source": [
    "# Value-free\n",
    "\n",
    "<img align=\"center\" src=\"files/Plots/CorrMil.png\" width=700 length=500>"
   ]
  },
  {
   "cell_type": "markdown",
   "metadata": {
    "slideshow": {
     "slide_type": "slide"
    }
   },
   "source": [
    "# Future\n",
    "\n",
    "- Inter-particpant model selection analysis\n",
    "- Alternative model based algorithms\n",
    "- Parameter summary statistics\n",
    "- Reduced models\n",
    "- Participant varience reduction\n",
    "- Alternative optimisiation algorithms"
   ]
  },
  {
   "cell_type": "markdown",
   "metadata": {
    "slideshow": {
     "slide_type": "slide"
    }
   },
   "source": [
    "<h1 align=\"center\"> Thanks for Listening!</h1>"
   ]
  },
  {
   "cell_type": "code",
   "execution_count": null,
   "metadata": {
    "slideshow": {
     "slide_type": "skip"
    }
   },
   "outputs": [],
   "source": []
  }
 ],
 "metadata": {
  "celltoolbar": "Slideshow",
  "kernelspec": {
   "display_name": "Julia 1.1.1",
   "language": "julia",
   "name": "julia-1.1"
  },
  "language_info": {
   "file_extension": ".jl",
   "mimetype": "application/julia",
   "name": "julia",
   "version": "1.1.1"
  }
 },
 "nbformat": 4,
 "nbformat_minor": 2
}
